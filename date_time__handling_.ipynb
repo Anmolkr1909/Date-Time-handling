{
  "nbformat": 4,
  "nbformat_minor": 0,
  "metadata": {
    "colab": {
      "provenance": [],
      "authorship_tag": "ABX9TyPzGIe0tmZwkhHUhRUnCqoL",
      "include_colab_link": true
    },
    "kernelspec": {
      "name": "python3",
      "display_name": "Python 3"
    },
    "language_info": {
      "name": "python"
    }
  },
  "cells": [
    {
      "cell_type": "markdown",
      "metadata": {
        "id": "view-in-github",
        "colab_type": "text"
      },
      "source": [
        "<a href=\"https://colab.research.google.com/github/Anmolkr1909/Date-Time-handling/blob/main/date_time__handling_.ipynb\" target=\"_parent\"><img src=\"https://colab.research.google.com/assets/colab-badge.svg\" alt=\"Open In Colab\"/></a>"
      ]
    },
    {
      "cell_type": "markdown",
      "source": [
        "# **Date and Time Handling**\n",
        "\n",
        "---\n",
        "\n",
        "\n",
        "\n",
        "---\n",
        "\n"
      ],
      "metadata": {
        "id": "Iy_W_Zn6Z1Fk"
      }
    },
    {
      "cell_type": "markdown",
      "source": [
        "# 89) Countdown to Your Birthday\n"
      ],
      "metadata": {
        "id": "rtD2jjkFaN7w"
      }
    },
    {
      "cell_type": "code",
      "execution_count": null,
      "metadata": {
        "colab": {
          "base_uri": "https://localhost:8080/"
        },
        "id": "_MEXxD8qZlvd",
        "outputId": "5aed1f5d-9581-4f33-ae1f-d72cba042092"
      },
      "outputs": [
        {
          "output_type": "stream",
          "name": "stdout",
          "text": [
            "Days left for your birthday: 199\n"
          ]
        }
      ],
      "source": [
        "from datetime import date\n",
        "\n",
        "birthday = date(2025, 12, 31)\n",
        "today = date.today()\n",
        "\n",
        "days_left = (birthday - today).days\n",
        "print(\"Days left for your birthday:\", days_left)\n"
      ]
    },
    {
      "cell_type": "markdown",
      "source": [
        "\n",
        "\n",
        "---\n",
        "\n"
      ],
      "metadata": {
        "id": "b_l4jPhqcLj_"
      }
    },
    {
      "cell_type": "markdown",
      "source": [
        "\n",
        "# 90) Daily Task Logger (with timestamp)\n",
        "\n"
      ],
      "metadata": {
        "id": "9ffuCx9db2u_"
      }
    },
    {
      "cell_type": "code",
      "source": [
        "import datetime\n",
        "\n",
        "task = input(\"Enter the task you completed: \")\n",
        "now = datetime.datetime.now()\n",
        "\n",
        "with open(\"task_log.txt\", \"a\") as file:\n",
        "    file.write(f\"{now.strftime('%d-%m-%Y %I:%M %p')} - {task}\\n\")\n",
        "\n",
        "print(\"Task logged with timestamp.\")\n"
      ],
      "metadata": {
        "colab": {
          "base_uri": "https://localhost:8080/"
        },
        "id": "HoFjwVCUby7l",
        "outputId": "b83c5289-8410-4269-efd4-cc3f53b09826"
      },
      "execution_count": null,
      "outputs": [
        {
          "output_type": "stream",
          "name": "stdout",
          "text": [
            "Enter the task you completed: 3\n",
            "Task logged with timestamp.\n"
          ]
        }
      ]
    },
    {
      "cell_type": "markdown",
      "source": [
        "\n",
        "\n",
        "---\n",
        "\n"
      ],
      "metadata": {
        "id": "ooPyO1lHb3mx"
      }
    },
    {
      "cell_type": "markdown",
      "source": [
        "#91) Check if Today is Weekend\n"
      ],
      "metadata": {
        "id": "ywgyUY4mcM1C"
      }
    },
    {
      "cell_type": "code",
      "source": [
        "import datetime\n",
        "\n",
        "day = datetime.datetime.now().strftime(\"%A\")\n",
        "\n",
        "if day in [\"Saturday\", \"Sunday\"]:\n",
        "    print(\"It's the weekend! Relax.\")\n",
        "else:\n",
        "    print(\"It's a weekday. Keep working!\")\n"
      ],
      "metadata": {
        "colab": {
          "base_uri": "https://localhost:8080/"
        },
        "id": "kJGtG0yvceJX",
        "outputId": "29fbc255-09ce-42a7-ecc8-018e73702d67"
      },
      "execution_count": null,
      "outputs": [
        {
          "output_type": "stream",
          "name": "stdout",
          "text": [
            "It's the weekend! Relax.\n"
          ]
        }
      ]
    },
    {
      "cell_type": "markdown",
      "source": [
        "\n",
        "\n",
        "---\n",
        "\n"
      ],
      "metadata": {
        "id": "ECtyCFfxc9Vs"
      }
    },
    {
      "cell_type": "markdown",
      "source": [
        "# 92) Age Calculator"
      ],
      "metadata": {
        "id": "pS21L_i8c-sA"
      }
    },
    {
      "cell_type": "code",
      "source": [
        "from datetime import date\n",
        "\n",
        "birth_year = int(input(\"Enter your birth year: \"))\n",
        "birth_month = int(input(\"Enter your birth month: \"))\n",
        "birth_day = int(input(\"Enter your birth day: \"))\n",
        "\n",
        "birth_date = date(birth_year, birth_month, birth_day)\n",
        "today = date.today()\n",
        "\n",
        "age = today.year - birth_date.year\n",
        "\n",
        "# Adjust if birthday not yet reached\n",
        "if (today.month, today.day) < (birth_date.month, birth_date.day):\n",
        "    age -= 1\n",
        "\n",
        "print(\"Your age is:\", age)\n"
      ],
      "metadata": {
        "colab": {
          "base_uri": "https://localhost:8080/"
        },
        "id": "A6kTNLtIdIKc",
        "outputId": "2e21e2ff-1a8e-49b6-c616-e73700c5cbf6"
      },
      "execution_count": null,
      "outputs": [
        {
          "output_type": "stream",
          "name": "stdout",
          "text": [
            "Enter your birth year: 2005\n",
            "Enter your birth month: 09\n",
            "Enter your birth day: 19\n",
            "Your age is: 19\n"
          ]
        }
      ]
    },
    {
      "cell_type": "markdown",
      "source": [
        "\n",
        "\n",
        "---\n",
        "\n"
      ],
      "metadata": {
        "id": "t9uJvxH1dTaQ"
      }
    },
    {
      "cell_type": "markdown",
      "source": [
        "# 93) Medicine Expiry Checker\n",
        "\n"
      ],
      "metadata": {
        "id": "UGFcnY5pdWws"
      }
    },
    {
      "cell_type": "code",
      "source": [
        "from datetime import date\n",
        "\n",
        "expiry_year = int(input(\"Enter expiry year: \"))\n",
        "expiry_month = int(input(\"Enter expiry month: \"))\n",
        "expiry_day = int(input(\"Enter expiry day: \"))\n",
        "\n",
        "expiry_date = date(expiry_year, expiry_month, expiry_day)\n",
        "today = date.today()\n",
        "\n",
        "if expiry_date < today:\n",
        "    print(\"The medicine has expired.\")\n",
        "else:\n",
        "    print(\"The medicine is still valid.\")\n"
      ],
      "metadata": {
        "colab": {
          "base_uri": "https://localhost:8080/"
        },
        "id": "iqCHTI-wdWJK",
        "outputId": "e3236a01-1c66-452a-cd4f-7b00277163fc"
      },
      "execution_count": null,
      "outputs": [
        {
          "output_type": "stream",
          "name": "stdout",
          "text": [
            "Enter expiry year: 2026\n",
            "Enter expiry month: 12\n",
            "Enter expiry day: 23\n",
            "The medicine is still valid.\n"
          ]
        }
      ]
    },
    {
      "cell_type": "markdown",
      "source": [
        "\n",
        "\n",
        "---\n",
        "\n"
      ],
      "metadata": {
        "id": "qFNvDv1neHn6"
      }
    },
    {
      "cell_type": "markdown",
      "source": [
        "\n",
        "\n",
        "---\n",
        "\n"
      ],
      "metadata": {
        "id": "P-DYBpKaeL0a"
      }
    }
  ]
}